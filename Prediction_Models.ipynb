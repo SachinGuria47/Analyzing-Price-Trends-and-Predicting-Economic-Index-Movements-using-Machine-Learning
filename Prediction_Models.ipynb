{
  "nbformat": 4,
  "nbformat_minor": 0,
  "metadata": {
    "colab": {
      "provenance": [],
      "authorship_tag": "ABX9TyNpu4JVK9dZ2tH57qXNBodG",
      "include_colab_link": true
    },
    "kernelspec": {
      "name": "python3",
      "display_name": "Python 3"
    },
    "language_info": {
      "name": "python"
    }
  },
  "cells": [
    {
      "cell_type": "markdown",
      "metadata": {
        "id": "view-in-github",
        "colab_type": "text"
      },
      "source": [
        "<a href=\"https://colab.research.google.com/github/SachinGuria47/Analyzing-Price-Trends-and-Inflation-Patterns-in-India-s-Consumer-Price-Index--Rural-and-Urban--up-t/blob/main/Prediction_Models.ipynb\" target=\"_parent\"><img src=\"https://colab.research.google.com/assets/colab-badge.svg\" alt=\"Open In Colab\"/></a>"
      ]
    },
    {
      "cell_type": "code",
      "execution_count": null,
      "metadata": {
        "id": "vM2kzV8R6drW"
      },
      "outputs": [],
      "source": []
    }
  ]
}