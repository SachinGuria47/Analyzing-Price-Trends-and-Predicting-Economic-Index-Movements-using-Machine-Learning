{
  "cells": [
    {
      "cell_type": "markdown",
      "metadata": {
        "colab_type": "text",
        "id": "view-in-github"
      },
      "source": [
        "<a href=\"https://colab.research.google.com/github/SachinGuria47/Analyzing-Global-Health-Indicators-and-Their-Impact-on-Education-and-Economic-Growth/blob/main/Analysis.ipynb\" target=\"_parent\"><img src=\"https://colab.research.google.com/assets/colab-badge.svg\" alt=\"Open In Colab\"/></a>"
      ]
    },
    {
      "cell_type": "markdown",
      "metadata": {
        "id": "JTWiUCFeM796"
      },
      "source": [
        "\n",
        "\n",
        "\n",
        "# #Analyzing the Relationship Between Education and Economic Growth for Sustainable Development\n",
        "\n"
      ]
    },
    {
      "cell_type": "code",
      "execution_count": null,
      "metadata": {
        "id": "KhqxBdprM8fL"
      },
      "outputs": [],
      "source": [
        "#import Libraries\n",
        "import pandas as pd\n",
        "import sqlite3\n",
        "import matplotlib.pyplot as plt\n",
        "import seaborn as sns\n",
        "import numpy as np\n",
        "from sklearn.linear_model import LinearRegression"
      ]
    },
    {
      "cell_type": "code",
      "execution_count": null,
      "metadata": {
        "id": "euqof6yJOUMy"
      },
      "outputs": [],
      "source": [
        "#load datasets\n",
        "data1 = pd.read_csv('Education.csv')\n",
        "data2 = pd.read_csv('Economic.csv')\n"
      ]
    }
  ],
  "metadata": {
    "colab": {
      "authorship_tag": "ABX9TyNa8PvSLSB9NAKDstjOoHPO",
      "include_colab_link": true,
      "provenance": []
    },
    "kernelspec": {
      "display_name": "Python 3",
      "name": "python3"
    },
    "language_info": {
      "name": "python"
    }
  },
  "nbformat": 4,
  "nbformat_minor": 0
}
