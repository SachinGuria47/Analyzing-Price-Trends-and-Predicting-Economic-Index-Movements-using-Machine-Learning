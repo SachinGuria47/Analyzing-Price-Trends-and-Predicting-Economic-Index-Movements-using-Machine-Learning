{
  "nbformat": 4,
  "nbformat_minor": 0,
  "metadata": {
    "colab": {
      "provenance": [],
      "authorship_tag": "ABX9TyNa8PvSLSB9NAKDstjOoHPO",
      "include_colab_link": true
    },
    "kernelspec": {
      "name": "python3",
      "display_name": "Python 3"
    },
    "language_info": {
      "name": "python"
    }
  },
  "cells": [
    {
      "cell_type": "markdown",
      "metadata": {
        "id": "view-in-github",
        "colab_type": "text"
      },
      "source": [
        "<a href=\"https://colab.research.google.com/github/SachinGuria47/Analyzing-Global-Health-Indicators-and-Their-Impact-on-Education-and-Economic-Growth/blob/main/Analysis.ipynb\" target=\"_parent\"><img src=\"https://colab.research.google.com/assets/colab-badge.svg\" alt=\"Open In Colab\"/></a>"
      ]
    },
    {
      "cell_type": "markdown",
      "source": [
        "\n",
        "\n",
        "\n",
        "# #Analyzing the Relationship Between Education and Economic Growth for Sustainable Development\n",
        "\n"
      ],
      "metadata": {
        "id": "JTWiUCFeM796"
      }
    },
    {
      "cell_type": "code",
      "source": [
        "#import Libraries\n",
        "import pandas as pd\n",
        "import sqlite3\n",
        "import matplotlib.pyplot as plt\n",
        "import seaborn as sns\n",
        "import numpy as np\n",
        "from sklearn.linear_model import LinearRegression"
      ],
      "metadata": {
        "id": "KhqxBdprM8fL"
      },
      "execution_count": null,
      "outputs": []
    },
    {
      "cell_type": "code",
      "source": [
        "#load datasets\n",
        "data1 = pd.read_csv('Education.csv')\n",
        "data2 = pd.read_csv('Economic_Growth.csv')\n"
      ],
      "metadata": {
        "id": "euqof6yJOUMy"
      },
      "execution_count": null,
      "outputs": []
    }
  ]
}