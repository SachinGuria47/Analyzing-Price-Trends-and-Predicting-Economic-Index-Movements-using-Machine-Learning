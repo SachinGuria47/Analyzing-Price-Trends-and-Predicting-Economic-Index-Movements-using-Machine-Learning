{
  "nbformat": 4,
  "nbformat_minor": 0,
  "metadata": {
    "colab": {
      "provenance": [],
      "authorship_tag": "ABX9TyMSqhhM6d6XxftEdR/brIpr",
      "include_colab_link": true
    },
    "kernelspec": {
      "name": "python3",
      "display_name": "Python 3"
    },
    "language_info": {
      "name": "python"
    }
  },
  "cells": [
    {
      "cell_type": "markdown",
      "metadata": {
        "id": "view-in-github",
        "colab_type": "text"
      },
      "source": [
        "<a href=\"https://colab.research.google.com/github/SachinGuria47/Analyzing-Global-Health-Indicators-and-Their-Impact-on-Education-and-Economic-Growth/blob/main/Analysis.ipynb\" target=\"_parent\"><img src=\"https://colab.research.google.com/assets/colab-badge.svg\" alt=\"Open In Colab\"/></a>"
      ]
    },
    {
      "cell_type": "markdown",
      "source": [
        "\n",
        "\n",
        "\n",
        "# #Analyzing the Relationship Between Education and Economic Growth for Sustainable Development\n",
        "\n"
      ],
      "metadata": {
        "id": "JTWiUCFeM796"
      }
    },
    {
      "cell_type": "code",
      "source": [
        "#import Libraries\n",
        "import pandas as pd\n",
        "import sqlite3\n",
        "import matplotlib.pyplot as plt\n",
        "import seaborn as sns\n",
        "import numpy as np\n",
        "from sklearn.linear_model import LinearRegression"
      ],
      "metadata": {
        "id": "KhqxBdprM8fL"
      },
      "execution_count": null,
      "outputs": []
    },
    {
      "cell_type": "code",
      "source": [
        "#load datasets\n",
        "data1 = pd.read_csv('Education.csv')\n",
        "data2 = pd.read_csv('Economic.csv')\n"
      ],
      "metadata": {
        "id": "0wdiBAZAb7S9"
      },
      "execution_count": null,
      "outputs": []
    },
    {
      "cell_type": "code",
      "source": [
        "conn = sqlite3.connect(\"data.db\")\n",
        "data1.to_sql(\"Education\", conn, if_exists=\"replace\", index=False)\n",
        "data2.to_sql(\"Economic\", conn, if_exists=\"replace\", index=False)"
      ],
      "metadata": {
        "colab": {
          "base_uri": "https://localhost:8080/"
        },
        "id": "-l8UbLEKcb4p",
        "outputId": "b3df53af-2eb3-4811-e569-024a9ea7c85a"
      },
      "execution_count": null,
      "outputs": [
        {
          "output_type": "execute_result",
          "data": {
            "text/plain": [
              "24"
            ]
          },
          "metadata": {},
          "execution_count": 16
        }
      ]
    }
  ]
}